{
 "cells": [
  {
   "cell_type": "code",
   "execution_count": 2,
   "metadata": {},
   "outputs": [],
   "source": [
    "%run ../../../website_creation/webtools.py\n",
    "%config InlineBackend.figure_format = 'retina'"
   ]
  },
  {
   "cell_type": "markdown",
   "metadata": {},
   "source": [
    "# Create list of SS positions for second x-axis"
   ]
  },
  {
   "cell_type": "code",
   "execution_count": 3,
   "metadata": {},
   "outputs": [],
   "source": [
    "if 1:\n",
    "    aux = pnd.read_table('/eos/user/a/ahuschau/www/acc-models-www/repository/ps/_scripts/PS_SS_limits.txt', delim_whitespace = True, header = None, names = ['SS', 's [m]'])\n",
    "    aux['location'] = aux['SS'].apply(lambda x: x[-3:])\n",
    "    aux.set_index(aux['s [m]'].values, inplace = True)\n",
    "    aux['SS'] = aux['SS'].apply(lambda x: x[2:4])\n",
    "    SS_ticks = aux[aux['location'] == 'ART'][['SS']]\n",
    "    \n",
    "    SS_ticks.to_pickle('/eos/user/a/ahuschau/www/acc-models-www/repository/ps/_scripts/PS_SS_limits.pkl')\n",
    "else:\n",
    "    SS_ticks = pnd.read_pickle('/eos/user/a/ahuschau/www/acc-models-www/repository/ps/_scripts/PS_SS_limits.pkl')\n",
    "    "
   ]
  },
  {
   "cell_type": "code",
   "execution_count": null,
   "metadata": {},
   "outputs": [],
   "source": []
  }
 ],
 "metadata": {
  "kernelspec": {
   "display_name": "Python 2",
   "language": "python",
   "name": "python2"
  },
  "language_info": {
   "codemirror_mode": {
    "name": "ipython",
    "version": 2
   },
   "file_extension": ".py",
   "mimetype": "text/x-python",
   "name": "python",
   "nbconvert_exporter": "python",
   "pygments_lexer": "ipython2",
   "version": "2.7.15"
  }
 },
 "nbformat": 4,
 "nbformat_minor": 2
}
